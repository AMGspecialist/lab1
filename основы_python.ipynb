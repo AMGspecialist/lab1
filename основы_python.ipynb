{
  "cells": [
    {
      "cell_type": "markdown",
      "metadata": {
        "id": "M-DGa20PaHnu"
      },
      "source": [
        "#Задача 1\n",
        "Написать функцию на вход которой подается строка, состоящая из латинских букв.\n",
        "Функция должна вернуть количество гласных букв (a, e, i, o, u) в этой строке. Написать тесты для кода"
      ]
    },
    {
      "cell_type": "code",
      "execution_count": 6,
      "metadata": {
        "id": "XvX8X_JJ6PCb"
      },
      "outputs": [
        {
          "name": "stdout",
          "output_type": "stream",
          "text": [
            "Кол-во 'a' = 2\n",
            "Кол-во 'e' = 0\n",
            "Кол-во 'i' = 0\n",
            "Кол-во 'o' = 0\n",
            "Кол-во 'u' = 0\n",
            "Кол-во 'y' = 0\n",
            "Ведены неправильные данные!\n",
            "Кол-во 'a' = 0\n",
            "Кол-во 'e' = 0\n",
            "Кол-во 'i' = 0\n",
            "Кол-во 'o' = 0\n",
            "Кол-во 'u' = 0\n",
            "Кол-во 'y' = 0\n",
            "Кол-во 'a' = 2\n",
            "Кол-во 'e' = 2\n",
            "Кол-во 'i' = 2\n",
            "Кол-во 'o' = 2\n",
            "Кол-во 'u' = 2\n",
            "Кол-во 'y' = 0\n"
          ]
        }
      ],
      "source": [
        "def Vowels(string):\n",
        "    try:\n",
        "        string = int(string)\n",
        "    except ValueError:\n",
        "        STR_list = list(string)\n",
        "        for item in range(len(STR_list)-1):\n",
        "            count_a = STR_list.count(\"a\") + STR_list.count(\"A\")\n",
        "            count_e = STR_list.count(\"e\") + STR_list.count(\"E\")\n",
        "            count_i = STR_list.count(\"i\") + STR_list.count(\"I\")\n",
        "            count_o = STR_list.count(\"o\") + STR_list.count(\"O\")\n",
        "            count_u = STR_list.count(\"u\") + STR_list.count(\"U\")\n",
        "            count_y = STR_list.count(\"y\") + STR_list.count(\"Y\")\n",
        "        return f\"Кол-во 'a' = {count_a}\\nКол-во 'e' = {count_e}\\nКол-во 'i' = {count_i}\\nКол-во 'o' = {count_o}\\nКол-во 'u' = {count_u}\\nКол-во 'y' = {count_y}\"\n",
        "    else:\n",
        "        return \"Ведены неправильные данные!\"\n",
        "\n",
        "print(Vowels(input()))\n",
        "example1 = 1234\n",
        "example2 = \"....\"\n",
        "example3 = \"AaEeOoUuIi\"\n",
        "print(Vowels(example1))\n",
        "print(Vowels(example2))\n",
        "print(Vowels(example3))\n"
      ]
    },
    {
      "cell_type": "markdown",
      "metadata": {
        "id": "t2ClV_Y0bbr6"
      },
      "source": [
        "# Задача 2\n",
        "Написать функцию на вход, которой подается строка. Функция должна вернуть true, если\n",
        "каждый символ в строке встречается только 1 раз, иначе должна вернуть false. Написать тесты для кода"
      ]
    },
    {
      "cell_type": "code",
      "execution_count": 7,
      "metadata": {
        "id": "FppbECao6VIz"
      },
      "outputs": [
        {
          "name": "stdout",
          "output_type": "stream",
          "text": [
            "false\n",
            "true\n",
            "false\n"
          ]
        }
      ],
      "source": [
        "def Replace(string):\n",
        "    STRList = list(string)\n",
        "    duplicate = set()\n",
        "    for item in STRList:\n",
        "        if item in duplicate:\n",
        "            return \"false\"\n",
        "        else:\n",
        "            duplicate.add(item)\n",
        "    return \"true\"\n",
        "#Test\n",
        "example1 = \"cnaenvueqnc\"\n",
        "example2 = \"12345\"\n",
        "example3 = \"%%#%$@^!\"\n",
        "print(Replace(example1))\n",
        "print(Replace(example2))\n",
        "print(Replace(example3))"
      ]
    },
    {
      "cell_type": "markdown",
      "metadata": {
        "id": "udRiIK1cdt6E"
      },
      "source": [
        "# Задача 3\n",
        "Написать функцию, которая принимает положительное число и возвращает количество\n",
        "бит равных 1 в этом числе. Написать тесты для кода"
      ]
    },
    {
      "cell_type": "code",
      "execution_count": 5,
      "metadata": {
        "id": "6tkfDJRz6dp_"
      },
      "outputs": [
        {
          "name": "stdout",
          "output_type": "stream",
          "text": [
            "9\n",
            "5\n",
            "Неверный ввод!\n",
            "Неверный ввод!\n",
            "Неверный ввод!\n"
          ]
        }
      ],
      "source": [
        "i = str(input())\n",
        "def Bits(number):\n",
        "    try:\n",
        "        number = int(number)\n",
        "        if number >= 0:\n",
        "            return bin(number)[2:].count(\"1\")\n",
        "        else:\n",
        "            return \"Неверный ввод!\"         \n",
        "    except ValueError:\n",
        "        return \"Неверный ввод!\"\n",
        "print(Bits(i))\n",
        "example1 = 1234\n",
        "example2 = -2134\n",
        "example3 = \"asdqwx\"\n",
        "example4 = \"#@!$%%$^\"\n",
        "print(Bits(example1))\n",
        "print(Bits(example2))\n",
        "print(Bits(example3))\n",
        "print(Bits(example4))"
      ]
    },
    {
      "cell_type": "markdown",
      "metadata": {
        "id": "26dDUz-Ae17N"
      },
      "source": [
        "# Задача 4\n",
        "Написать функцию, которая принимает положительное число. Функция должна вернуть то,\n",
        "сколько раз необходимо перемножать цифры числа или результат перемножения, чтобы\n",
        "получилось число состоящее из одной цифры.\n",
        "Например, для входного числа:\n",
        "· 39 функция должна вернуть 3, так как 3*9=27 => 2*7=14 => 1*4=4\n",
        "· 4 функция должна вернуть 0, так как число уже состоит из одной цифры\n",
        "· 999 функция должна вернуть 4, так как 9*9*9=729 => 7*2*9=126 => 1*2*6=12 =>\n",
        "1*2=2. Написать тесты для кода"
      ]
    },
    {
      "cell_type": "code",
      "execution_count": 6,
      "metadata": {
        "id": "BH1A_Mgi6i4G"
      },
      "outputs": [
        {
          "name": "stdout",
          "output_type": "stream",
          "text": [
            "4\n",
            "4\n",
            "Неверный ввод!\n",
            "Неверный ввод!\n",
            "Неверный ввод!\n"
          ]
        }
      ],
      "source": [
        "import math\n",
        "\n",
        "number = input()\n",
        "def magic(n):\n",
        "    try:\n",
        "        n = int(n)\n",
        "        if n > 0:\n",
        "            count = 0\n",
        "            while n >= 10:\n",
        "                n = math.prod([int(num) for num in str(n)])\n",
        "                count += 1\n",
        "            return count\n",
        "        else: \n",
        "            return \"Неверный ввод!\"\n",
        "    except ValueError:\n",
        "        return \"Неверный ввод!\"   \n",
        "print(magic(number))\n",
        "\n",
        "#Test\n",
        "example1 = 999\n",
        "example2 = \"\"\n",
        "example3 = -999\n",
        "example4 = \"aacaftwb\"\n",
        "print(magic(example1))\n",
        "print(magic(example2))\n",
        "print(magic(example3))\n",
        "print(magic(example4))"
      ]
    },
    {
      "cell_type": "markdown",
      "metadata": {
        "id": "0nS-kIa8g8vd"
      },
      "source": [
        "# Задача 5\n",
        "Написать функцию, которая принимает два целочисленных вектора одинаковой длины и\n",
        "возвращает среднеквадратическое отклонение двух векторов. Написать тесты для кода"
      ]
    },
    {
      "cell_type": "code",
      "execution_count": 4,
      "metadata": {
        "id": "8iphx4LM6xbx"
      },
      "outputs": [
        {
          "name": "stdout",
          "output_type": "stream",
          "text": [
            "202.0\n",
            "1.632993161855452\n",
            "1444.0\n"
          ]
        }
      ],
      "source": [
        "def mse(vektor1, vektor2):\n",
        "    vektor1, vektor2 = vektor1.split(' '), vektor2.split(' ') \n",
        "    try:\n",
        "        vektor1, vektor2 = list(map(int, vektor1)), list(map(int, vektor2))\n",
        "    except : return \"Неверный ввод!\"\n",
        "\n",
        "    if len(vektor1) != len(vektor2): return \"Вектора должны одной размерности!\" \n",
        "    \n",
        "    return (sum([(vektor1[i] - vektor2[i]) ** 2 for i in range(len(vektor1))])/len(vektor1)) ** 0.5\n",
        "#Test\n",
        "example1, example2 = \"143\", \"345\"\n",
        "example3, example4 = \"1 2 3\", \"3 2 1\"\n",
        "example5, example6 = \"1456\", \"12\"\n",
        "print(mse(example1, example2))\n",
        "print(mse(example3, example4))\n",
        "print(mse(example5, example6))\n",
        "\n",
        "\n"
      ]
    },
    {
      "cell_type": "markdown",
      "metadata": {
        "id": "vpIPKL439zkw"
      },
      "source": [
        "# Задача 6\n",
        "Написать функцию, принимающая целое положительное число. Функция должна вернуть\n",
        "строку вида “(n1**p1)(n2**p2)…(nk**pk)” представляющая разложение числа на простые\n",
        "множители (если pi == 1, то выводить только ni).\n",
        "Например, для числа 86240 функция должна вернуть “(2**5)(5)(7**2)(11)”. Написать тесты для кода"
      ]
    },
    {
      "cell_type": "code",
      "execution_count": 6,
      "metadata": {
        "id": "pFebmcZk94Jw"
      },
      "outputs": [
        {
          "name": "stdout",
          "output_type": "stream",
          "text": [
            "(2)(3)(5)\n",
            "Неверный ввод!\n",
            "Неверный ввод!\n",
            "Неверный ввод!\n",
            "(3)(3)(37)(37)\n",
            "(7)(41)(43)\n",
            "Неверный ввод!\n"
          ]
        }
      ],
      "source": [
        "def primefactors(n):\n",
        "    try:\n",
        "        n = int(n)\n",
        "        if n <= 0:\n",
        "            return \"Неверный ввод!\"\n",
        "        \n",
        "        i = 2\n",
        "        factors = []\n",
        "        while i * i <= n:\n",
        "            while n % i == 0:\n",
        "                factors.append(i)\n",
        "                n = n / i\n",
        "            i = i + 1\n",
        "        if n > 1:\n",
        "            factors.append(int(n))\n",
        "        string = \"\"\n",
        "        for i in factors:\n",
        "            string += '('\n",
        "            string += str(i)\n",
        "            string += ')'\n",
        "        return string\n",
        "    except ValueError: return \"Неверный ввод!\"\n",
        "#Test\n",
        "example1 = 30\n",
        "example2 = \"\"\n",
        "example3 = -999\n",
        "example4 = \"aacaftwb\"\n",
        "example5 = 12321\n",
        "example6 = 12341\n",
        "example7 = \"@$#*^@#%@&!!!\"\n",
        "print(primefactors(example1))\n",
        "print(primefactors(example2))\n",
        "print(primefactors(example3))\n",
        "print(primefactors(example4))\n",
        "print(primefactors(example5))\n",
        "print(primefactors(example6))\n",
        "print(primefactors(example7))"
      ]
    },
    {
      "cell_type": "markdown",
      "metadata": {
        "id": "ps2s0BudX7A2"
      },
      "source": [
        "# Задача 7\n",
        "Написать функцию, принимающая целое число n, задающее количество кубиков. Функция\n",
        "должна определить, можно ли из данного кол-ва кубиков построить пирамиду, то есть\n",
        "можно ли представить число n как 1^2+2^2+3^2+…+k^2. Если можно, то функция должна\n",
        "вернуть k, иначе строку “It is impossible”. Написать тесты для кода"
      ]
    },
    {
      "cell_type": "code",
      "execution_count": 9,
      "metadata": {
        "id": "3YPjEXxhX_YT"
      },
      "outputs": [
        {
          "name": "stdout",
          "output_type": "stream",
          "text": [
            "Неверный ввод!\n",
            "4\n",
            "Неверный ввод!\n",
            "Неверный ввод!\n",
            "Неверный ввод!\n",
            "It is impossible.\n",
            "It is impossible.\n",
            "Неверный ввод!\n"
          ]
        }
      ],
      "source": [
        "i = input()\n",
        "def pyramid(num):\n",
        "    if type(num) == str: \n",
        "        try: num = int(num) \n",
        "        except (ValueError, TypeError): return \"Неверный ввод!\"\n",
        "\n",
        "    if type(num) != int or num <=0: return \"Неверный ввод!\"\n",
        "    count = 0  \n",
        "    while num > 0:\n",
        "        count += 1\n",
        "        num -= count ** 2\n",
        "        if num == 0: return count\n",
        "    return \"It is impossible.\"\n",
        "print(pyramid(i))\n",
        "#Test\n",
        "example1 = 30\n",
        "example2 = \"\"\n",
        "example3 = -999\n",
        "example4 = \"aacaftwb\"\n",
        "example5 = 12321\n",
        "example6 = 12341\n",
        "example7 = \"@$#*^@#%@&!!!\"\n",
        "print(pyramid(example1))\n",
        "print(pyramid(example2))\n",
        "print(pyramid(example3))\n",
        "print(pyramid(example4))\n",
        "print(pyramid(example5))\n",
        "print(pyramid(example6))\n",
        "print(pyramid(example7))"
      ]
    },
    {
      "cell_type": "markdown",
      "metadata": {
        "id": "KeKgmIdAQMEJ"
      },
      "source": [
        "# Задача 8\n",
        "Функция принимает на вход положительное число и определяет является ли оно сбалансированным, т.е. сумма цифр до средних равна сумме цифр после. Средними в случае нечетного числа цифр считать одну цифру, в случае четного - две средних. Написать тесты для кода"
      ]
    },
    {
      "cell_type": "code",
      "execution_count": 10,
      "metadata": {
        "id": "gMAAqtqlQrZt"
      },
      "outputs": [
        {
          "name": "stdout",
          "output_type": "stream",
          "text": [
            "484120 - несбалансированное число\n",
            "997299 - сбалансированное число\n",
            "Неверный ввод!\n",
            "Неверный ввод!\n",
            "Неверный ввод!\n",
            "12321 - сбалансированное число\n",
            "12343 - несбалансированное число\n",
            "Неверный ввод!\n"
          ]
        }
      ],
      "source": [
        "i = input()\n",
        "def balance(n):\n",
        "    if type(n) == str:\n",
        "        try:\n",
        "            n = int(n)\n",
        "        except(ValueError, TypeError):\n",
        "            return \"Неверный ввод!\"\n",
        "        \n",
        "    if n <= 0 or type(n) != int:\n",
        "        return \"Неверный ввод!\" \n",
        "    \n",
        "    if len(str(n)) % 2 == 0:\n",
        "        mid = int(len(str(n))/2 - 1)\n",
        "        sum1 = sum(map(int, list(str(n))[0:mid:]))\n",
        "        sum2 = sum(map(int, list(str(n))[mid+2::]))\n",
        "        if sum1 == sum2: return str(n) + \" - сбалансированное число\"\n",
        "        else: return str(n) + \" - несбалансированное число\"\n",
        "\n",
        "    elif len(str(n)) % 2 == 1:\n",
        "        mid = round(len(str(n))/2)\n",
        "        sum1 = sum(map(int, list(str(n))[0:mid:]))\n",
        "        sum2 = sum(map(int, list(str(n))[mid+1::]))\n",
        "        if sum1 == sum2: return str(n) + \" - сбалансированное число\"\n",
        "        else: return str(n) + \" - несбалансированное число\"\n",
        "\n",
        "print(balance(i))\n",
        "\n",
        "#Test\n",
        "example1 = 997299\n",
        "example2 = \"\"\n",
        "example3 = -999\n",
        "example4 = \"aacaftwb\"\n",
        "example5 = 12321\n",
        "example6 = 12343\n",
        "example7 = \"@$#*^@#%@&!!!\"\n",
        "print(balance(example1))\n",
        "print(balance(example2))\n",
        "print(balance(example3))\n",
        "print(balance(example4))\n",
        "print(balance(example5))\n",
        "print(balance(example6))\n",
        "print(balance(example7))"
      ]
    }
  ],
  "metadata": {
    "colab": {
      "provenance": []
    },
    "kernelspec": {
      "display_name": "Python 3",
      "name": "python3"
    },
    "language_info": {
      "codemirror_mode": {
        "name": "ipython",
        "version": 3
      },
      "file_extension": ".py",
      "mimetype": "text/x-python",
      "name": "python",
      "nbconvert_exporter": "python",
      "pygments_lexer": "ipython3",
      "version": "3.11.2"
    }
  },
  "nbformat": 4,
  "nbformat_minor": 0
}
